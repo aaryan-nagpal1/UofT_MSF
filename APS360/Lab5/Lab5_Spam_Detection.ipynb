{
  "cells": [
    {
      "cell_type": "markdown",
      "metadata": {
        "id": "_bphECiUa9zw"
      },
      "source": [
        "# Lab 5: Spam Detection\n",
        "\n",
        "In this assignment, we will build a recurrent neural network to classify a SMS text message\n",
        "as \"spam\" or \"not spam\". In the process, you will\n",
        "    \n",
        "1. Clean and process text data for machine learning.\n",
        "2. Understand and implement a character-level recurrent neural network.\n",
        "3. Use torchtext to build recurrent neural network models.\n",
        "4. Understand batching for a recurrent neural network, and use torchtext to implement RNN batching.\n",
        "\n",
        "### What to submit\n",
        "\n",
        "Submit a PDF file containing all your code, outputs, and write-up. You can produce a PDF of your Google Colab file by going to File > Print and then save as PDF. The Colab instructions have more information.\n",
        "\n",
        "Do not submit any other files produced by your code.\n",
        "\n",
        "Include a link to your colab file in your submission."
      ]
    },
    {
      "cell_type": "markdown",
      "metadata": {
        "id": "rWiUqJJTa9z6"
      },
      "source": [
        "## Colab Link\n",
        "\n",
        "Include a link to your Colab file here. If you would like the TA to look at your\n",
        "Colab file in case your solutions are cut off, **please make sure that your Colab\n",
        "file is publicly accessible at the time of submission**."
      ]
    },
    {
      "cell_type": "markdown",
      "metadata": {
        "id": "xnW4NI_zjo2b"
      },
      "source": [
        "Colab Link: https://drive.google.com/file/d/1GnnrrYsh1K1Jg7L9v4vOSO89UNYtLJ7D/view?usp=sharing"
      ]
    },
    {
      "cell_type": "markdown",
      "metadata": {
        "id": "T5TU8SJ3jo2d"
      },
      "source": [
        "As we are using the older version of the torchtext, please run the following to downgrade the torchtext version:"
      ]
    },
    {
      "cell_type": "markdown",
      "metadata": {
        "id": "SXrDgaHkjo2i"
      },
      "source": [
        "!pip install -U torch==1.8.0+cu111 torchtext==0.9.0 -f https://download.pytorch.org/whl/torch_stable.html"
      ]
    },
    {
      "cell_type": "code",
      "source": [
        "!pip install torchtext==0.6.0"
      ],
      "metadata": {
        "colab": {
          "base_uri": "https://localhost:8080/"
        },
        "id": "ojhEcpwQIi9Y",
        "outputId": "bb726000-a10b-494f-9046-1fdc3a075d45"
      },
      "execution_count": 1,
      "outputs": [
        {
          "output_type": "stream",
          "name": "stdout",
          "text": [
            "Requirement already satisfied: torchtext==0.6.0 in /usr/local/lib/python3.10/dist-packages (0.6.0)\n",
            "Requirement already satisfied: tqdm in /usr/local/lib/python3.10/dist-packages (from torchtext==0.6.0) (4.66.1)\n",
            "Requirement already satisfied: requests in /usr/local/lib/python3.10/dist-packages (from torchtext==0.6.0) (2.31.0)\n",
            "Requirement already satisfied: torch in /usr/local/lib/python3.10/dist-packages (from torchtext==0.6.0) (2.1.0+cu118)\n",
            "Requirement already satisfied: numpy in /usr/local/lib/python3.10/dist-packages (from torchtext==0.6.0) (1.23.5)\n",
            "Requirement already satisfied: six in /usr/local/lib/python3.10/dist-packages (from torchtext==0.6.0) (1.16.0)\n",
            "Requirement already satisfied: sentencepiece in /usr/local/lib/python3.10/dist-packages (from torchtext==0.6.0) (0.1.99)\n",
            "Requirement already satisfied: charset-normalizer<4,>=2 in /usr/local/lib/python3.10/dist-packages (from requests->torchtext==0.6.0) (3.3.2)\n",
            "Requirement already satisfied: idna<4,>=2.5 in /usr/local/lib/python3.10/dist-packages (from requests->torchtext==0.6.0) (3.4)\n",
            "Requirement already satisfied: urllib3<3,>=1.21.1 in /usr/local/lib/python3.10/dist-packages (from requests->torchtext==0.6.0) (2.0.7)\n",
            "Requirement already satisfied: certifi>=2017.4.17 in /usr/local/lib/python3.10/dist-packages (from requests->torchtext==0.6.0) (2023.7.22)\n",
            "Requirement already satisfied: filelock in /usr/local/lib/python3.10/dist-packages (from torch->torchtext==0.6.0) (3.13.1)\n",
            "Requirement already satisfied: typing-extensions in /usr/local/lib/python3.10/dist-packages (from torch->torchtext==0.6.0) (4.5.0)\n",
            "Requirement already satisfied: sympy in /usr/local/lib/python3.10/dist-packages (from torch->torchtext==0.6.0) (1.12)\n",
            "Requirement already satisfied: networkx in /usr/local/lib/python3.10/dist-packages (from torch->torchtext==0.6.0) (3.2.1)\n",
            "Requirement already satisfied: jinja2 in /usr/local/lib/python3.10/dist-packages (from torch->torchtext==0.6.0) (3.1.2)\n",
            "Requirement already satisfied: fsspec in /usr/local/lib/python3.10/dist-packages (from torch->torchtext==0.6.0) (2023.6.0)\n",
            "Requirement already satisfied: triton==2.1.0 in /usr/local/lib/python3.10/dist-packages (from torch->torchtext==0.6.0) (2.1.0)\n",
            "Requirement already satisfied: MarkupSafe>=2.0 in /usr/local/lib/python3.10/dist-packages (from jinja2->torch->torchtext==0.6.0) (2.1.3)\n",
            "Requirement already satisfied: mpmath>=0.19 in /usr/local/lib/python3.10/dist-packages (from sympy->torch->torchtext==0.6.0) (1.3.0)\n"
          ]
        }
      ]
    },
    {
      "cell_type": "markdown",
      "metadata": {
        "id": "SxmgfTQljo2j"
      },
      "source": [
        "If you are interested to use the most recent version if torchtext, you can look at the following document to see how to convert the legacy version to the new version:\n",
        "https://colab.research.google.com/github/pytorch/text/blob/master/examples/legacy_tutorial/migration_tutorial.ipynb"
      ]
    },
    {
      "cell_type": "code",
      "execution_count": 2,
      "metadata": {
        "id": "HgfNOUaPa9z8",
        "tags": []
      },
      "outputs": [],
      "source": [
        "import torch\n",
        "import torch.nn as nn\n",
        "import torch.nn.functional as F\n",
        "import torch.optim as optim\n",
        "import numpy as np"
      ]
    },
    {
      "cell_type": "markdown",
      "metadata": {
        "id": "M0jLI9LBa90C"
      },
      "source": [
        "## Part 1. Data Cleaning [15 pt]\n",
        "\n",
        "We will be using the \"SMS Spam Collection Data Set\" available at http://archive.ics.uci.edu/ml/datasets/SMS+Spam+Collection\n",
        "\n",
        "There is a link to download the \"Data Folder\" at the very top of the webpage. Download the zip file, unzip it, and upload the file `SMSSpamCollection` to Colab.    "
      ]
    },
    {
      "cell_type": "markdown",
      "metadata": {
        "id": "sSuF7C_Ga90E"
      },
      "source": [
        "### Part (a) [2 pt]\n",
        "\n",
        "Open up the file in Python, and print out one example of a spam SMS, and one example of a non-spam SMS.\n",
        "\n",
        "What is the label value for a spam message, and what is the label value for a non-spam message?"
      ]
    },
    {
      "cell_type": "code",
      "source": [
        "#mounting google drive for running any further code and saving the output\n",
        "from google.colab import drive\n",
        "drive.mount(\"/content/gdrive\", force_remount=True)"
      ],
      "metadata": {
        "colab": {
          "base_uri": "https://localhost:8080/"
        },
        "id": "0ruWYt6V_lfg",
        "outputId": "39b6776e-80d8-42d6-b9e5-9c54e36156cb"
      },
      "execution_count": 3,
      "outputs": [
        {
          "output_type": "stream",
          "name": "stdout",
          "text": [
            "Mounted at /content/gdrive\n"
          ]
        }
      ]
    },
    {
      "cell_type": "code",
      "execution_count": 133,
      "metadata": {
        "collapsed": true,
        "id": "I_IfXHeTa90F",
        "jupyter": {
          "outputs_hidden": true
        },
        "colab": {
          "base_uri": "https://localhost:8080/"
        },
        "outputId": "93fe316a-8280-4ad2-c2e0-1a3b61c0e2cf"
      },
      "outputs": [
        {
          "output_type": "stream",
          "name": "stdout",
          "text": [
            "Spam message label is : spam\n",
            "First spam message is : spam\tFree entry in 2 a wkly comp to win FA Cup final tkts 21st May 2005. Text FA to 87121 to receive entry question(std txt rate)T&C's apply 08452810075over18's\n",
            "\n",
            "Non-spam message label is : ham\n",
            "First non-spam message is : ham\tGo until jurong point, crazy.. Available only in bugis n great world la e buffet... Cine there got amore wat...\n",
            "\n"
          ]
        }
      ],
      "source": [
        "for line in open('/content/gdrive/My Drive/SMSSpamCollection'):\n",
        "    if line [0:4] == \"spam\":\n",
        "      #print label and first spam message\n",
        "      print(\"Spam message label is :\", line[0:4])\n",
        "      print(\"First spam message is :\", line)\n",
        "      break\n",
        "\n",
        "for line in open('/content/gdrive/My Drive/SMSSpamCollection'):\n",
        "  if line[0:3] ==\"ham\":\n",
        "      #print label and first non-spam message\n",
        "      print(\"Non-spam message label is :\", line[0:3])\n",
        "      print(\"First non-spam message is :\", line)\n",
        "      break"
      ]
    },
    {
      "cell_type": "markdown",
      "metadata": {
        "id": "AukA6vMVa90d"
      },
      "source": [
        "### Part (b) [1 pt]\n",
        "\n",
        "How many spam messages are there in the data set?\n",
        "How many non-spam messages are there in the data set?\n"
      ]
    },
    {
      "cell_type": "code",
      "execution_count": 134,
      "metadata": {
        "collapsed": true,
        "id": "LgsqyemVa90e",
        "jupyter": {
          "outputs_hidden": true
        },
        "colab": {
          "base_uri": "https://localhost:8080/"
        },
        "outputId": "be5dc3dc-0563-41f8-e0a2-f4fa67481cc0"
      },
      "outputs": [
        {
          "output_type": "stream",
          "name": "stdout",
          "text": [
            "The number of spam messages are : 747\n",
            "The number of non-spam messages are : 4827\n"
          ]
        }
      ],
      "source": [
        "spam_count=0\n",
        "non_spam_count=0\n",
        "for line in open('/content/gdrive/My Drive/SMSSpamCollection'):\n",
        "    if line [0:4] == \"spam\":\n",
        "      spam_count+=1\n",
        "    else:\n",
        "      non_spam_count+=1\n",
        "\n",
        "#the number of spam and non-spam messages are counted below\n",
        "print(\"The number of spam messages are :\", spam_count)\n",
        "print(\"The number of non-spam messages are :\", non_spam_count)"
      ]
    },
    {
      "cell_type": "markdown",
      "metadata": {
        "id": "d1WXxVt6a90h"
      },
      "source": [
        "### Part (c) [4 pt]\n",
        "\n",
        "We will be using the package `torchtext` to load, process, and batch the data.\n",
        "A tutorial to torchtext is available below. This tutorial uses the same\n",
        "Sentiment140 data set that we explored during lecture.\n",
        "\n",
        "https://medium.com/@sonicboom8/sentiment-analysis-torchtext-55fb57b1fab8\n",
        "\n",
        "Unlike what we did during lecture, we will be building a **character level RNN**.\n",
        "That is, we will treat each **character** as a token in our sequence,\n",
        "rather than each **word**.\n",
        "\n",
        "Identify two advantage and two disadvantage of modelling SMS text\n",
        "messages as a sequence of characters rather than a sequence of words."
      ]
    },
    {
      "cell_type": "markdown",
      "source": [
        "**Advantages of character inference-**\n",
        "\n",
        "---\n",
        "1) It is much easier to recognize character tokens as compared to words due to their reduced number (only 26 letters + symbols) and decreased computational memory requirements, leading to quicker results.\n",
        "\n",
        "2) With analysis being done on single characters at a time there is no need to worry about misspelt words which would further increase the computational memory requirement, and therefore such problems can be avoided.\n",
        "\n",
        "\n",
        "**Disadvantages of character inference-**\n",
        "\n",
        "---\n",
        "1) Although computation memory decreases, the power and time requirements increase in this method as a result of the need for more complex models to understand and detect possible spam messages just through characters, leading to more computational power, time and cost needs.\n",
        "\n",
        "2) As mentioned previously, making inferences just based on a sequence of characters is a lot harder than doing so using words, as it becomes more difficult to detect spam \"types\" or trends that often show up. This could lead to a possible decrease in accuracy, and a loss of detection on some possible spam messages while processing.\n"
      ],
      "metadata": {
        "id": "r9WALj6QC9Xl"
      }
    },
    {
      "cell_type": "markdown",
      "metadata": {
        "id": "ie_D0bv9a90k"
      },
      "source": [
        "### Part (d) [1 pt]\n",
        "\n",
        "We will be loading our data set using `torchtext.data.TabularDataset`. The\n",
        "constructor will read directly from the `SMSSpamCollection` file.\n",
        "\n",
        "For the data file to be read successfuly, we\n",
        "need to specify the **fields** (columns) in the file.\n",
        "In our case, the dataset has two fields:\n",
        "\n",
        "- a text field containing the sms messages,\n",
        "- a label field which will be converted into a binary label.\n",
        "\n",
        "Split the dataset into `train`, `valid`, and `test`. Use a 60-20-20 split.\n",
        "You may find this torchtext API page helpful:\n",
        "https://torchtext.readthedocs.io/en/latest/data.html#dataset\n",
        "\n",
        "Hint: There is a `Dataset` method that can perform the random split for you."
      ]
    },
    {
      "cell_type": "code",
      "source": [
        "#using code from tutorial 6b, and replacing ham/spam with 0/1 encodings\n",
        "import torchtext\n",
        "\n",
        "text_field = torchtext.data.Field(sequential=True, # text sequence\n",
        "                                  tokenize=lambda x: x, # because we are building a character-RNN\n",
        "                                  include_lengths=True, # to track the length of sequences, for batching\n",
        "                                  batch_first=True,\n",
        "                                  use_vocab=True)       # to turn each character into an integer index\n",
        "label_field = torchtext.data.Field(sequential=False,   #just a 0/1 encoding for the label\n",
        "                                   use_vocab=False,\n",
        "                                   is_target=True,\n",
        "                                   batch_first=True,\n",
        "                                   preprocessing=lambda x: int(x == 'spam')) # convert label to 0 and 1\n",
        "\n",
        "#creating two fields as needed, one for the label encoded as 0/1 and one for the text itself\n",
        "fields = [('label', label_field), ('text', text_field)]\n",
        "dataset = torchtext.data.TabularDataset(\"/content/gdrive/My Drive/SMSSpamCollection\", \"tsv\", fields)\n",
        "\n",
        "#testing if this worked properly\n",
        "print(dataset[0].text)\n",
        "print(dataset[0].label) #should be 0 as this is a non-spam message"
      ],
      "metadata": {
        "colab": {
          "base_uri": "https://localhost:8080/"
        },
        "id": "sGZEtwxdGCXn",
        "outputId": "6d640de8-0406-4381-ef88-038218fc84a7"
      },
      "execution_count": 14,
      "outputs": [
        {
          "output_type": "stream",
          "name": "stdout",
          "text": [
            "Go until jurong point, crazy.. Available only in bugis n great world la e buffet... Cine there got amore wat...\n",
            "0\n"
          ]
        }
      ]
    },
    {
      "cell_type": "code",
      "source": [
        "#splitting the data into 60/20/20 for training/validation/testing\n",
        "#using the split method provided in the link above\n",
        "\n",
        "trainset, valset, testset = dataset.split(split_ratio=[.6, .2, .2])\n",
        "print(\"The proportion of messages left for training are: \", round((len(trainset))/(len(trainset+valset+testset))*100), \"%\")\n",
        "print(\"The proportion of messages left for validation are: \", round((len(valset))/(len(trainset+valset+testset))*100), \"%\")\n",
        "print(\"The proportion of messages left for testing are: \", round((len(testset))/(len(trainset+valset+testset))*100), \"%\")"
      ],
      "metadata": {
        "colab": {
          "base_uri": "https://localhost:8080/"
        },
        "id": "NqVDeHyNLLyb",
        "outputId": "8311535a-e736-4b76-8492-364cbc7dbe54"
      },
      "execution_count": 26,
      "outputs": [
        {
          "output_type": "stream",
          "name": "stdout",
          "text": [
            "The proportion of messages left for training are:  60 %\n",
            "The proportion of messages left for validation are:  20 %\n",
            "The proportion of messages left for testing are:  20 %\n"
          ]
        }
      ]
    },
    {
      "cell_type": "markdown",
      "metadata": {
        "id": "v6nP0Ks_a90o"
      },
      "source": [
        "### Part (e) [2 pt]\n",
        "\n",
        "You saw in part (b) that there are many more non-spam messages than spam messages.\n",
        "This **imbalance** in our training data will be problematic for training.\n",
        "We can fix this disparity by duplicating spam messages in the training set,\n",
        "so that the training set is roughly **balanced**.\n",
        "\n",
        "Explain why having a balanced training set is helpful for training our neural network.\n",
        "\n",
        "Note: if you are not sure, try removing the below code and train your mode."
      ]
    },
    {
      "cell_type": "code",
      "execution_count": 27,
      "metadata": {
        "collapsed": true,
        "id": "FWvx9_rka90p",
        "jupyter": {
          "outputs_hidden": true
        }
      },
      "outputs": [],
      "source": [
        "# save the original training examples\n",
        "old_train_examples = trainset.examples\n",
        "# get all the spam messages in `train`\n",
        "train_spam = []\n",
        "for item in trainset.examples:\n",
        "    if item.label == 1:\n",
        "        train_spam.append(item)\n",
        "# duplicate each spam message 6 more times\n",
        "trainset.examples = old_train_examples + train_spam * 6"
      ]
    },
    {
      "cell_type": "markdown",
      "source": [
        "**Importance of a balanced dataset**\n",
        "\n",
        "A balanced dataset is important because of two major reasons-\n",
        "\n",
        "1) A higher non-spam message percentage automatically makes the model more biased towards predicting non-spam, and if it does so for all messages it would still end up with a high accuracy due to the imbalance. This could be indicative of a false sense of confidence in the model.\n",
        "\n",
        "2) When testing on new data which might have significantly higher spam messages, since our model is not capable of accuractely detecting them, the accuracy will be very low leading to many wrong predictions."
      ],
      "metadata": {
        "id": "eGPDzjsUNXmO"
      }
    },
    {
      "cell_type": "markdown",
      "metadata": {
        "id": "j7eUmBEva90r"
      },
      "source": [
        "### Part (f) [1 pt]\n",
        "\n",
        "We need to build the vocabulary on the training data by running the below code.\n",
        "This finds all the possible character tokens in the training set.\n",
        "\n",
        "Explain what the variables `text_field.vocab.stoi` and `text_field.vocab.itos` represent."
      ]
    },
    {
      "cell_type": "code",
      "execution_count": 34,
      "metadata": {
        "collapsed": true,
        "id": "8CQM8flKa90s",
        "jupyter": {
          "outputs_hidden": true
        },
        "colab": {
          "base_uri": "https://localhost:8080/"
        },
        "outputId": "a88642c6-4076-4a03-92ff-6d1fa6d6ed26"
      },
      "outputs": [
        {
          "output_type": "stream",
          "name": "stdout",
          "text": [
            "\n",
            "defaultdict(<bound method Vocab._default_unk_index of <torchtext.vocab.Vocab object at 0x7ea87f1c10f0>>, {'<unk>': 0, '<pad>': 1, ' ': 2, 'e': 3, 'o': 4, 't': 5, 'a': 6, 'n': 7, 'r': 8, 'i': 9, 's': 10, 'l': 11, 'u': 12, 'h': 13, '0': 14, 'd': 15, '.': 16, 'c': 17, 'm': 18, 'y': 19, 'w': 20, 'p': 21, 'g': 22, '1': 23, 'f': 24, '2': 25, 'b': 26, '8': 27, 'T': 28, 'k': 29, 'E': 30, 'v': 31, '5': 32, 'S': 33, 'C': 34, 'O': 35, 'I': 36, '4': 37, '7': 38, 'A': 39, 'N': 40, '3': 41, '6': 42, 'x': 43, 'R': 44, '!': 45, '9': 46, ',': 47, 'W': 48, 'P': 49, 'U': 50, 'M': 51, 'L': 52, 'H': 53, 'D': 54, 'B': 55, '/': 56, 'G': 57, 'F': 58, 'Y': 59, \"'\": 60, '?': 61, '£': 62, '-': 63, '&': 64, ':': 65, 'z': 66, 'V': 67, 'X': 68, 'K': 69, 'j': 70, '*': 71, 'J': 72, ')': 73, ';': 74, '+': 75, '\"': 76, 'q': 77, 'Q': 78, '(': 79, '#': 80, '@': 81, '=': 82, '>': 83, 'Z': 84, 'ü': 85, 'Ü': 86, '_': 87, '‘': 88, '\\x92': 89, '<': 90, '$': 91, '|': 92, '[': 93, ']': 94, '\\x93': 95, '¡': 96, '“': 97, '%': 98, 'ú': 99, '’': 100, '…': 101, '\\x94': 102, '–': 103, '\\\\': 104, '^': 105, '~': 106, '\\x91': 107, '\\x96': 108, 'è': 109, 'ì': 110, '—': 111})\n",
            "['<unk>', '<pad>', ' ', 'e', 'o', 't', 'a', 'n', 'r', 'i', 's', 'l', 'u', 'h', '0', 'd', '.', 'c', 'm', 'y', 'w', 'p', 'g', '1', 'f', '2', 'b', '8', 'T', 'k', 'E', 'v', '5', 'S', 'C', 'O', 'I', '4', '7', 'A', 'N', '3', '6', 'x', 'R', '!', '9', ',', 'W', 'P', 'U', 'M', 'L', 'H', 'D', 'B', '/', 'G', 'F', 'Y', \"'\", '?', '£', '-', '&', ':', 'z', 'V', 'X', 'K', 'j', '*', 'J', ')', ';', '+', '\"', 'q', 'Q', '(', '#', '@', '=', '>', 'Z', 'ü', 'Ü', '_', '‘', '\\x92', '<', '$', '|', '[', ']', '\\x93', '¡', '“', '%', 'ú', '’', '…', '\\x94', '–', '\\\\', '^', '~', '\\x91', '\\x96', 'è', 'ì', '—']\n"
          ]
        }
      ],
      "source": [
        "text_field.build_vocab(trainset)\n",
        "print(text_field.vocab.stoi)\n",
        "print(text_field.vocab.itos)"
      ]
    },
    {
      "cell_type": "markdown",
      "source": [
        "It seems that the text_field.vocab_stoi varaible stores a mapping of the character tokens and integers associated with them as key-value pairs in a dictionary. stoi refers to string to integer.\n",
        "\n",
        "It seems that the text_field.vocab.itos variable stores a list of character tokens that are mapped through integer values from the text_field.vocab.stoi varaiable defined before. itos referes to integer to string."
      ],
      "metadata": {
        "id": "bmgHo-MmPHmw"
      }
    },
    {
      "cell_type": "markdown",
      "metadata": {
        "id": "TC8WVE8Ua90u"
      },
      "source": [
        "### Part (g) [2 pt]\n",
        "\n",
        "The tokens `<unk>` and `<pad>` were not in our SMS text messages.\n",
        "What do these two values represent?"
      ]
    },
    {
      "cell_type": "markdown",
      "source": [
        "In the variables, \"unk\" refers to unknown character tokens that showed up while iterating through the training set, this could not be fit into any of the existing tokens python recognizes.\n",
        "\n",
        "Similarly, \"pad\" refers to the padding that is applied to these texts in the training set. This is primarily done so that all the texts have equal length and it becomes a lot easier for python to process and detect for spam."
      ],
      "metadata": {
        "id": "Z6gYjrBmQOgz"
      }
    },
    {
      "cell_type": "markdown",
      "metadata": {
        "id": "Ff5CNk7Qa90y"
      },
      "source": [
        "### Part (h) [2 pt]\n",
        "\n",
        "Since text sequences are of variable length, `torchtext` provides a `BucketIterator` data loader,\n",
        "which batches similar length sequences together. The iterator also provides functionalities to\n",
        "pad sequences automatically.\n",
        "\n",
        "Take a look at 10 batches in `train_iter`. What is the maximum length of the\n",
        "input sequence in each batch? How many `<pad>` tokens are used in each of the 10\n",
        "batches?"
      ]
    },
    {
      "cell_type": "code",
      "execution_count": 136,
      "metadata": {
        "collapsed": true,
        "id": "V8N8qLWOa90y",
        "jupyter": {
          "outputs_hidden": true
        }
      },
      "outputs": [],
      "source": [
        "train_iter = torchtext.data.BucketIterator(trainset,\n",
        "                                           batch_size=32,\n",
        "                                           sort_key=lambda x: len(x.text), # to minimize padding\n",
        "                                           sort_within_batch=True,        # sort within each batch\n",
        "                                           repeat=False)                  # repeat the iterator for many epochs\n",
        "\n",
        "#setting up validation and testing iteration functions for use later using the reference code provided above\n",
        "valid_iter = torchtext.data.BucketIterator(valset,\n",
        "                                           batch_size=32,\n",
        "                                           sort_key=lambda x: len(x.text), # to minimize padding\n",
        "                                           sort_within_batch=True,        # sort within each batch\n",
        "                                           repeat=False)                  # repeat the iterator for many epochs\n",
        "\n",
        "test_iter = torchtext.data.BucketIterator(testset,\n",
        "                                           batch_size=32,\n",
        "                                           sort_key=lambda x: len(x.text), # to minimize padding\n",
        "                                           sort_within_batch=True,    # sort within each batch\n",
        "                                           repeat=False)              # repeat the iterator for many epochs"
      ]
    },
    {
      "cell_type": "code",
      "execution_count": 156,
      "metadata": {
        "collapsed": true,
        "id": "Qwz-rOaha902",
        "jupyter": {
          "outputs_hidden": true
        },
        "colab": {
          "base_uri": "https://localhost:8080/"
        },
        "outputId": "51a26523-786d-46ec-ec38-2d7ced0272a2"
      },
      "outputs": [
        {
          "output_type": "stream",
          "name": "stdout",
          "text": [
            "Maximum Length in batch 1 = 45\n",
            "Number of pad tokens in batch 1 = 35\n",
            "\n",
            "Maximum Length in batch 2 = 22\n",
            "Number of pad tokens in batch 2 = 0\n",
            "\n",
            "Maximum Length in batch 3 = 63\n",
            "Number of pad tokens in batch 3 = 33\n",
            "\n",
            "Maximum Length in batch 4 = 90\n",
            "Number of pad tokens in batch 4 = 50\n",
            "\n",
            "Maximum Length in batch 5 = 158\n",
            "Number of pad tokens in batch 5 = 0\n",
            "\n",
            "Maximum Length in batch 6 = 49\n",
            "Number of pad tokens in batch 6 = 49\n",
            "\n",
            "Maximum Length in batch 7 = 159\n",
            "Number of pad tokens in batch 7 = 0\n",
            "\n",
            "Maximum Length in batch 8 = 153\n",
            "Number of pad tokens in batch 8 = 6\n",
            "\n",
            "Maximum Length in batch 9 = 119\n",
            "Number of pad tokens in batch 9 = 41\n",
            "\n",
            "Maximum Length in batch 10 = 22\n",
            "Number of pad tokens in batch 10 = 66\n",
            "\n"
          ]
        }
      ],
      "source": [
        "i = 1\n",
        "for batch in train_iter:\n",
        "    pad = 0\n",
        "    #getting the max batch length for each batch\n",
        "    print(\"Maximum Length in batch\", i , \"=\" , int(batch.text[1][0]))\n",
        "    for text in batch.text[1]:\n",
        "      #getting the pad tokens by subtracting text length from batch length\n",
        "        pad += batch.text[1][0] - text\n",
        "    print(\"Number of pad tokens in batch\", i, \"=\" , int(pad))\n",
        "    print()\n",
        "\n",
        "#iterating through the first 10 batches\n",
        "    if i<=9:\n",
        "      i += 1\n",
        "    else:\n",
        "      break"
      ]
    },
    {
      "cell_type": "markdown",
      "metadata": {
        "id": "y7HnqP6_a904"
      },
      "source": [
        "## Part 2. Model Building [8 pt]\n",
        "\n",
        "Build a recurrent neural network model, using an architecture of your choosing.\n",
        "Use the one-hot embedding of each character as input to your recurrent network.\n",
        "Use one or more fully-connected layers to make the prediction based on your\n",
        "recurrent network output.\n",
        "\n",
        "Instead of using the RNN output value for the final token, another often used\n",
        "strategy is to max-pool over the entire output array. That is, instead of calling\n",
        "something like:\n",
        "\n",
        "```\n",
        "out, _ = self.rnn(x)\n",
        "self.fc(out[:, -1, :])\n",
        "```\n",
        "\n",
        "where `self.rnn` is an `nn.RNN`, `nn.GRU`, or `nn.LSTM` module, and `self.fc` is a\n",
        "fully-connected\n",
        "layer, we use:\n",
        "\n",
        "```\n",
        "out, _ = self.rnn(x)\n",
        "self.fc(torch.max(out, dim=1)[0])\n",
        "```\n",
        "\n",
        "This works reasonably in practice. An even better alternative is to concatenate the\n",
        "max-pooling and average-pooling of the RNN outputs:\n",
        "\n",
        "```\n",
        "out, _ = self.rnn(x)\n",
        "out = torch.cat([torch.max(out, dim=1)[0],\n",
        "                 torch.mean(out, dim=1)], dim=1)\n",
        "self.fc(out)\n",
        "```\n",
        "\n",
        "We encourage you to try out all these options. The way you pool the RNN outputs\n",
        "is one of the \"hyperparameters\" that you can choose to tune later on."
      ]
    },
    {
      "cell_type": "code",
      "execution_count": 49,
      "metadata": {
        "collapsed": true,
        "id": "jHl1p_Wwa905",
        "jupyter": {
          "outputs_hidden": true
        },
        "colab": {
          "base_uri": "https://localhost:8080/"
        },
        "outputId": "b97f42dd-4972-4b1e-a587-f33c6eaebc18"
      },
      "outputs": [
        {
          "output_type": "stream",
          "name": "stdout",
          "text": [
            "tensor([1., 0., 0., 0., 0., 0., 0., 0., 0., 0.])\n",
            "tensor([0., 1., 0., 0., 0., 0., 0., 0., 0., 0.])\n",
            "tensor([[[0., 1., 0., 0., 0., 0., 0., 0., 0., 0.],\n",
            "         [0., 0., 1., 0., 0., 0., 0., 0., 0., 0.]],\n",
            "\n",
            "        [[0., 0., 0., 1., 0., 0., 0., 0., 0., 0.],\n",
            "         [0., 0., 0., 0., 1., 0., 0., 0., 0., 0.]]])\n"
          ]
        }
      ],
      "source": [
        "# You might find this code helpful for obtaining\n",
        "# PyTorch one-hot vectors.\n",
        "\n",
        "ident = torch.eye(10)\n",
        "print(ident[0]) # one-hot vector\n",
        "print(ident[1]) # one-hot vector\n",
        "x = torch.tensor([[1, 2], [3, 4]])\n",
        "print(ident[x]) # one-hot vectors"
      ]
    },
    {
      "cell_type": "code",
      "execution_count": 137,
      "metadata": {
        "collapsed": true,
        "id": "4LTQ7zFka909",
        "jupyter": {
          "outputs_hidden": true
        }
      },
      "outputs": [],
      "source": [
        "#using the same code from tutorial 5 to build the model\n",
        "class TextRNN(nn.Module):\n",
        "    def __init__(self, input_size, hidden_size, num_classes):\n",
        "        super(TextRNN, self).__init__()\n",
        "        #using torch.eye based on the hint above for making one-hot tensor vectors\n",
        "        self.emb = torch.eye(input_size) #input size comes from the text_field.vocab.itos variable we defined earlier\n",
        "        self.hidden_size = hidden_size\n",
        "        self.rnn = nn.RNN(input_size, hidden_size, batch_first=True)\n",
        "        self.fc = nn.Linear(2*hidden_size, num_classes)\n",
        "\n",
        "    def forward(self, x):\n",
        "        # Look up the embedding\n",
        "        x = self.emb[x]\n",
        "        # Set an initial hidden state\n",
        "        h0 = torch.zeros(1, x.size(0), self.hidden_size)\n",
        "        # Forward propagate the RNN\n",
        "        out, _ = self.rnn(x, h0)\n",
        "        #using the best recommended alternative from above for pooling\n",
        "        out, _ = self.rnn(x)\n",
        "        out = torch.cat([torch.max(out, dim=1)[0],\n",
        "                         torch.mean(out, dim=1)], dim=1)\n",
        "        out = self.fc(out)\n",
        "        return out"
      ]
    },
    {
      "cell_type": "markdown",
      "metadata": {
        "id": "vKIYPl_Ba90_"
      },
      "source": [
        "## Part 3. Training [16 pt]\n",
        "\n",
        "### Part (a) [4 pt]\n",
        "\n",
        "Complete the `get_accuracy` function, which will compute the\n",
        "accuracy (rate) of your model across a dataset (e.g. validation set).\n",
        "You may modify `torchtext.data.BucketIterator` to make your computation\n",
        "faster."
      ]
    },
    {
      "cell_type": "code",
      "execution_count": 94,
      "metadata": {
        "collapsed": true,
        "id": "pvNfhGD6a91A",
        "jupyter": {
          "outputs_hidden": true
        }
      },
      "outputs": [],
      "source": [
        "def get_accuracy(model, data):\n",
        "    \"\"\" Compute the accuracy of the `model` across a dataset `data`\n",
        "\n",
        "    Example usage:\n",
        "\n",
        "    >>> model = MyRNN() # to be defined\n",
        "    >>> get_accuracy(model, valid) # the variable `valid` is from above\n",
        "    \"\"\"\n",
        "    #using code from tutorial 5, modifying the output and label names according to our dataset\n",
        "    correct, total = 0, 0\n",
        "    for batch in data:\n",
        "        output = model(batch.text[0])\n",
        "        pred = torch.argmax(torch.softmax(output, dim = 1), 1)\n",
        "        correct += pred.eq(batch.label.view_as(pred)).sum().item()\n",
        "        total += len(batch)\n",
        "    return correct / total"
      ]
    },
    {
      "cell_type": "markdown",
      "metadata": {
        "id": "TlxlcAC1a91C"
      },
      "source": [
        "### Part (b) [4 pt]\n",
        "\n",
        "Train your model. Plot the training curve of your final model.\n",
        "Your training curve should have the training/validation loss and\n",
        "accuracy plotted periodically.\n",
        "\n",
        "Note: Not all of your batches will have the same batch size.\n",
        "In particular, if your training set does not divide evenly by\n",
        "your batch size, there will be a batch that is smaller than\n",
        "the rest."
      ]
    },
    {
      "cell_type": "code",
      "execution_count": 139,
      "metadata": {
        "collapsed": true,
        "id": "CVtf7CJCa91D",
        "jupyter": {
          "outputs_hidden": true
        },
        "colab": {
          "base_uri": "https://localhost:8080/",
          "height": 1000
        },
        "outputId": "05bea11c-cdf2-47b0-a5d4-04ca537de98f"
      },
      "outputs": [
        {
          "output_type": "stream",
          "name": "stdout",
          "text": [
            "epoch number :  1 , training_accuracy :  0.8877765218795414 , training_loss :  0.6820801496505737 , validation_accuracy :  0.8286995515695067 , validation_loss :  0.6692600250244141\n",
            "epoch number :  2 , training_accuracy :  0.5417406749555951 , training_loss :  0.7118902206420898 , validation_accuracy :  0.12376681614349776 , validation_loss :  0.7481022477149963\n",
            "epoch number :  3 , training_accuracy :  0.853705796867431 , training_loss :  0.4956784248352051 , validation_accuracy :  0.7659192825112108 , validation_loss :  0.5703997611999512\n",
            "epoch number :  4 , training_accuracy :  0.9034393670272889 , training_loss :  0.36947160959243774 , validation_accuracy :  0.9067264573991032 , validation_loss :  0.4551020860671997\n",
            "epoch number :  5 , training_accuracy :  0.9229775553043759 , training_loss :  0.1749158799648285 , validation_accuracy :  0.9336322869955157 , validation_loss :  0.29994648694992065\n",
            "epoch number :  6 , training_accuracy :  0.9386404004521234 , training_loss :  0.14607302844524384 , validation_accuracy :  0.8941704035874439 , validation_loss :  0.43339836597442627\n",
            "epoch number :  7 , training_accuracy :  0.9421927983206847 , training_loss :  0.3402565121650696 , validation_accuracy :  0.9443946188340807 , validation_loss :  0.20547492802143097\n",
            "epoch number :  8 , training_accuracy :  0.9457451961892459 , training_loss :  0.15529502928256989 , validation_accuracy :  0.9443946188340807 , validation_loss :  0.20217902958393097\n",
            "epoch number :  9 , training_accuracy :  0.9455837235588568 , training_loss :  0.23275114595890045 , validation_accuracy :  0.905829596412556 , validation_loss :  0.6277059316635132\n",
            "epoch number :  10 , training_accuracy :  0.9299208784111093 , training_loss :  0.055380407720804214 , validation_accuracy :  0.8699551569506726 , validation_loss :  0.6165236234664917\n",
            "Total time elapsed: 109.06 seconds\n"
          ]
        },
        {
          "output_type": "display_data",
          "data": {
            "text/plain": [
              "<Figure size 640x480 with 1 Axes>"
            ],
            "image/png": "[encoded data removed]"
          },
          "metadata": {}
        },
        {
          "output_type": "display_data",
          "data": {
            "text/plain": [
              "<Figure size 640x480 with 1 Axes>"
            ],
            "image/png": "[encoded data removed]"
          },
          "metadata": {}
        }
      ],
      "source": [
        "#using code from tutorial 5 notebook to setup the training function\n",
        "def train_rnn_network(model, train, valid, num_epochs=10, learning_rate=1e-4):\n",
        "    criterion = nn.CrossEntropyLoss()\n",
        "    optimizer = torch.optim.Adam(model.parameters(), lr=learning_rate)\n",
        "    train_losses, val_losses, train_accs, val_accs = [], [], [], []\n",
        "    epochs = []\n",
        "\n",
        "    #to get training time using code from lab 2\n",
        "    import time\n",
        "    start_time = time.time()\n",
        "\n",
        "    for epoch in range(num_epochs):\n",
        "        for batch in train:\n",
        "            optimizer.zero_grad()\n",
        "            pred = model(batch.text[0])\n",
        "            train_loss = criterion(pred, batch.label)\n",
        "            train_loss.backward()\n",
        "            optimizer.step()\n",
        "        train_losses.append(float(train_loss))\n",
        "\n",
        "        for batch in valid:\n",
        "            pred = model(batch.text[0])\n",
        "            val_loss = criterion(pred, batch.label)\n",
        "        val_losses.append(float(val_loss))\n",
        "\n",
        "        #using code from lab 2 and lab 3 to store the training and validation errors and losses for each epoch\n",
        "        epochs.append(epoch)\n",
        "        train_accs.append(get_accuracy(model, train))\n",
        "        val_accs.append(get_accuracy(model, valid))\n",
        "        #printing the training accuracy and losses for all epochs to understand the training and validation effectiveness\n",
        "        print(\"epoch number : \", epoch+1, \", training_accuracy : \",train_accs[epoch],\", training_loss : \",train_losses[epoch],\n",
        "              \", validation_accuracy : \",val_accs[epoch],\", validation_loss : \",val_losses[epoch])\n",
        "\n",
        "    #recording the time elapsed\n",
        "    end_time = time.time()\n",
        "    elapsed_time = end_time - start_time\n",
        "    print(\"Total time elapsed: {:.2f} seconds\".format(elapsed_time))\n",
        "\n",
        "    # plotting\n",
        "    import matplotlib.pyplot as plt\n",
        "    plt.title(\"Training Curve\")\n",
        "    plt.plot(train_losses, label=\"Train\")\n",
        "    plt.plot(val_losses, label =\"Validation\")\n",
        "    plt.xlabel(\"Epoch\")\n",
        "    plt.ylabel(\"Loss\")\n",
        "    plt.show()\n",
        "\n",
        "    plt.title(\"Training Curve\")\n",
        "    plt.plot(epochs, train_accs, label=\"Train\")\n",
        "    plt.plot(epochs, val_accs, label=\"Validation\")\n",
        "    plt.xlabel(\"Epoch\")\n",
        "    plt.ylabel(\"Accuracy\")\n",
        "    plt.legend(loc='best')\n",
        "    plt.show()\n",
        "\n",
        "#for showing the training curves of the final model we settled on for now\n",
        "input_size = len(text_field.vocab.itos)\n",
        "model = TextRNN(input_size,50,2)\n",
        "train_rnn_network(model, train_iter, valid_iter, num_epochs=10, learning_rate=1e-4)"
      ]
    },
    {
      "cell_type": "markdown",
      "metadata": {
        "id": "fE3eRkDAa91F"
      },
      "source": [
        "### Part (c) [4 pt]\n",
        "\n",
        "Choose at least 4 hyperparameters to tune. Explain how you tuned the hyperparameters.\n",
        "You don't need to include your training curve for every model you trained.\n",
        "Instead, explain what hyperparemters you tuned, what the best validation accuracy was,\n",
        "and the reasoning behind the hyperparameter decisions you made.\n",
        "\n",
        "For this assignment, you should tune more than just your learning rate and epoch.\n",
        "Choose at least 2 hyperparameters that are unrelated to the optimizer."
      ]
    },
    {
      "cell_type": "code",
      "execution_count": null,
      "metadata": {
        "collapsed": true,
        "id": "A2GEWfDca91G",
        "jupyter": {
          "outputs_hidden": true
        }
      },
      "outputs": [],
      "source": [
        "#Based on baseline, I reduced the learning_rate to 1e-5 as I thought it was training too quick, now with the first model below it seems that the training\n",
        "#accuracy plateaued for all epochs but then went up again just before the end but was not increasing throughout till the end on 10 epochs. The validation\n",
        "#and training losses also seem to reduce in correlation with each other, suggesting there is no under/overfitting as of now. So I will first try making the\n",
        "#learning_rate higher again but keeping the other hyperparameters the same at hidden_size = 50, batch_size = 32, to understand what changes to make next.\n",
        "\n",
        "input_size = len(text_field.vocab.itos)\n",
        "model = TextRNN(input_size,50,2)\n",
        "train_rnn_network(model, train_iter, valid_iter, num_epochs=10, learning_rate=1e-5)\n",
        "\n",
        "#Results from this configuration of the model\n",
        "#num_epochs = 10, hidden_size = 50, batch_size = 32, learning_rate = 1e-5\n",
        "#The most optimal training and validation losses and accuracies are included in the line below.\n",
        "#epoch number :  10 , training_accuracy :  0.5404488939124819 , training_loss :  0.6749295592308044 , validation_accuracy :  0.12466367713004484 ,\n",
        "#validation_loss :  0.7223743796348572"
      ]
    },
    {
      "cell_type": "code",
      "source": [
        "#Based on training with the second model below it seems that the training accuracy plateaued for epochs 5-8 but then went up again just before the end\n",
        "#and was increasing throughout till the end on 10 epochs. The validation and training losses also seem to reduce in correlation with each other,\n",
        "#suggesting there is no under/overfitting as of now. So I will first try making the hidden_size higher but keeping the other hyperparameters the same\n",
        "#at learning_rate = 2e-4, batch_size = 32, to understand what changes to make next.\n",
        "\n",
        "input_size = len(text_field.vocab.itos)\n",
        "model_2 = TextRNN(input_size,50,2)\n",
        "train_rnn_network(model_2, train_iter, valid_iter, num_epochs=10, learning_rate=2e-4)\n",
        "\n",
        "#Results from this configuration of the model\n",
        "#num_epochs = 10, hidden_size = 50, batch_size = 32, learning_rate = 2e-4\n",
        "#The most optimal training and validation losses and accuracies are included in the line below.\n",
        "#epoch number :  10 , training_accuracy :  0.9681898918133376 , training_loss :  0.0719970092177391 , validation_accuracy :  0.947085201793722 ,\n",
        "#validation_loss :  0.06336966156959534"
      ],
      "metadata": {
        "id": "tEy2KYGBnNsI"
      },
      "execution_count": null,
      "outputs": []
    },
    {
      "cell_type": "code",
      "source": [
        "#Based on training with the third model below it seems that the training accuracy never plateaued for any epochs,\n",
        "#and was increasing throughout till the end on 10 epochs. The validation and training losses however, don't seem to reduce in correlation with each other,\n",
        "#suggesting there is some overfitting as of now. So I will first try making the pooling function differently but keeping the other hyperparameters the same\n",
        "#at learning_rate = 2e-4, hidden_size = 100, to understand what changes to make next.\n",
        "\n",
        "input_size = len(text_field.vocab.itos)\n",
        "model = TextRNN(input_size,100,2)\n",
        "train_rnn_network(model, train_iter, valid_iter, num_epochs=10, learning_rate=2e-4)\n",
        "\n",
        "#Results from this configuration of the model\n",
        "#num_epochs = 10, hidden_size = 100 batch_size = 32, learning_rate = 2e-4\n",
        "#The most optimal training and validation losses and accuracies are included in the line below.\n",
        "#epoch number :  9 , training_accuracy :  0.9683513644437268 , training_loss :  0.04178082197904587 , validation_accuracy :  0.9605381165919282 ,\n",
        "#validation_loss :  0.15539869666099548"
      ],
      "metadata": {
        "id": "GOtlns87o_bU"
      },
      "execution_count": null,
      "outputs": []
    },
    {
      "cell_type": "code",
      "source": [
        "#using the same code from tutorial 5 to build the model\n",
        "class TextRNN2(nn.Module):\n",
        "    def __init__(self, input_size, hidden_size, num_classes):\n",
        "        super(TextRNN2, self).__init__()\n",
        "        self.emb = torch.eye(input_size) #input size comes from the text_field.vocab.itos variable we defined earlier\n",
        "        self.hidden_size = hidden_size\n",
        "        self.rnn = nn.RNN(input_size, hidden_size, batch_first=True)\n",
        "        self.fc = nn.Linear(hidden_size, num_classes)\n",
        "\n",
        "    def forward(self, x):\n",
        "        # Look up the embedding\n",
        "        x = self.emb[x]\n",
        "        # Set an initial hidden state\n",
        "        h0 = torch.zeros(1, x.size(0), self.hidden_size)\n",
        "        # Forward propagate the RNN\n",
        "        out, _ = self.rnn(x, h0)\n",
        "        #using the best recommended alternative from above for pooling\n",
        "        out, _ = self.rnn(x)\n",
        "        out=self.fc(out[:, -1, :])\n",
        "        return out\n",
        "\n",
        "#Based on training with the fourth model below it seems that the training accuracy never plateaued for any epochs,\n",
        "#and was increasing throughout till the end on 10 epochs. The validation and training losses however, don't seem to reduce in correlation with each other,\n",
        "#suggesting there is some overfitting as of now.\n",
        "\n",
        "input_size = len(text_field.vocab.itos)\n",
        "model = TextRNN2(input_size,100,2)\n",
        "train_rnn_network(model, train_iter, valid_iter, num_epochs=10, learning_rate=2e-5)\n",
        "\n",
        "#Results from this configuration of the model\n",
        "#num_epochs = 10, hidden_size = 100 batch_size = 32, learning_rate = 2e-5\n",
        "#The most optimal training and validation losses and accuracies are included in the line below.\n",
        "#epoch number :  9 , training_accuracy :  0.9140965606329727 , training_loss :  0.10730357468128204 , validation_accuracy :  0.9049327354260089 ,\n",
        "#validation_loss :  0.24741205573081978\n",
        "\n",
        "#seems like this model still performs similar to model 3"
      ],
      "metadata": {
        "id": "XGxmCxDZqtYS"
      },
      "execution_count": null,
      "outputs": []
    },
    {
      "cell_type": "markdown",
      "metadata": {
        "id": "v7DY56rKa91I"
      },
      "source": [
        "### Part (d) [2 pt]\n",
        "\n",
        "Before we deploy a machine learning model, we usually want to have a better understanding\n",
        "of how our model performs beyond its validation accuracy. An important metric to track is\n",
        "*how well our model performs in certain subsets of the data*.\n",
        "\n",
        "In particular, what is the model's error rate amongst data with negative labels?\n",
        "This is called the **false positive rate**.\n",
        "\n",
        "What about the model's error rate amongst data with positive labels?\n",
        "This is called the **false negative rate**.\n",
        "\n",
        "Report your final model's false positive and false negative rate across the\n",
        "validation set."
      ]
    },
    {
      "cell_type": "code",
      "execution_count": 119,
      "metadata": {
        "collapsed": true,
        "id": "7ggbQSdba91J",
        "jupyter": {
          "outputs_hidden": true
        },
        "colab": {
          "base_uri": "https://localhost:8080/"
        },
        "outputId": "688bc8d8-0a95-4efe-8980-fab55c5f578e"
      },
      "outputs": [
        {
          "output_type": "stream",
          "name": "stdout",
          "text": [
            "Proportion of false positives in validation set: 3.16 %\n",
            "Proportion of false negatives in validation set: 8.96 %\n"
          ]
        }
      ],
      "source": [
        "# Create a Dataset of only spam validation examples\n",
        "valid_spam = torchtext.data.Dataset(\n",
        "    [e for e in valset.examples if e.label == 1],\n",
        "    valset.fields)\n",
        "# Create a Dataset of only non-spam validation examples\n",
        "valid_nospam = torchtext.data.Dataset(\n",
        "    [e for e in valset.examples if e.label == 0], #changed to 0 to obtain non-spam set\n",
        "    valset.fields)\n",
        "\n",
        "#we now need to iterate through these datasets, so using a similar iteration function as before\n",
        "valid_spam_iter = torchtext.data.BucketIterator(valid_spam,\n",
        "                                           batch_size=32,\n",
        "                                           sort_key=lambda x: len(x.text), # to minimize padding\n",
        "                                           sort_within_batch=True,        # sort within each batch\n",
        "                                           repeat=False)                  # repeat the iterator for many epochs\n",
        "\n",
        "valid_no_spam_iter = torchtext.data.BucketIterator(valid_nospam,\n",
        "                                           batch_size=32,\n",
        "                                           sort_key=lambda x: len(x.text), # to minimize padding\n",
        "                                           sort_within_batch=True,        # sort within each batch\n",
        "                                           repeat=False)                  # repeat the iterator for many epochs\n",
        "\n",
        "#since model 2 was the best model, we are going to use that model to get all the accuracies for false positives and false negatives\n",
        "print(\"Proportion of false positives in validation set:\", round((1 - get_accuracy(model_2, valid_no_spam_iter))*100,2), \"%\")\n",
        "print(\"Proportion of false negatives in validation set:\", round((1 - get_accuracy(model_2, valid_spam_iter))*100,2), \"%\")"
      ]
    },
    {
      "cell_type": "markdown",
      "metadata": {
        "id": "N1iRteb3a91O"
      },
      "source": [
        "### Part (e) [2 pt]\n",
        "\n",
        "The impact of a false positive vs a false negative can be drastically different.\n",
        "If our spam detection algorithm was deployed on your phone, what is the impact\n",
        "of a false positive on the phone's user? What is the impact of a false negative?"
      ]
    },
    {
      "cell_type": "markdown",
      "source": [
        "**Problem with False Positives**\n",
        "\n",
        "False positives could result in important messages that I would recieve from banks for transactions, hospitals and restaurants for appointments or bookings could possibly be marked as spam due to the way they are written. This would result in missing important deadlines or requirements and could possibly be very bad for the person. This is a lot more dangerous than false negatives.\n",
        "\n",
        "**Problem with False Negatives**\n",
        "\n",
        "False negatives could result in the increase of spam messages that should be filtered by being marked as non-spam on my phone. Although this is a hinderance and could possibly lead to phishing or data leaks if links are clicked without notice, most people already recognize these sorts of messages and ignore them. I would still say this is less dangerous than false positives."
      ],
      "metadata": {
        "id": "CeiQ5r7P1l0Z"
      }
    },
    {
      "cell_type": "markdown",
      "metadata": {
        "id": "Gznefulsa91V"
      },
      "source": [
        "## Part 4. Evaluation [11 pt]\n",
        "\n",
        "### Part (a) [1 pt]\n",
        "\n",
        "Report the final test accuracy of your model."
      ]
    },
    {
      "cell_type": "code",
      "execution_count": 116,
      "metadata": {
        "collapsed": true,
        "id": "D5L5D-A1a91W",
        "jupyter": {
          "outputs_hidden": true
        },
        "colab": {
          "base_uri": "https://localhost:8080/"
        },
        "outputId": "36efeacb-d7f6-4268-e8a9-9f3ee579006f"
      },
      "outputs": [
        {
          "output_type": "stream",
          "name": "stdout",
          "text": [
            "Model testing accuracy : 97.49 %\n"
          ]
        }
      ],
      "source": [
        "#finding the accuracy of the model on the testing data set\n",
        "print(\"Model testing accuracy :\", round(get_accuracy(model_2, test_iter)*100,2), \"%\")"
      ]
    },
    {
      "cell_type": "markdown",
      "metadata": {
        "id": "6Hjmd8rca91Y"
      },
      "source": [
        "### Part (b) [3 pt]\n",
        "\n",
        "Report the false positive rate and false negative rate of your model across the test set."
      ]
    },
    {
      "cell_type": "code",
      "execution_count": 120,
      "metadata": {
        "collapsed": true,
        "id": "GFiAKztJa91Z",
        "jupyter": {
          "outputs_hidden": true
        },
        "colab": {
          "base_uri": "https://localhost:8080/"
        },
        "outputId": "cbf99630-694f-4551-b2b9-8e107fe550ee"
      },
      "outputs": [
        {
          "output_type": "stream",
          "name": "stdout",
          "text": [
            "Proportion of false positives in testing set : 2.56 %\n",
            "Proportion of false negatives in testing set : 3.62 %\n"
          ]
        }
      ],
      "source": [
        "#basically reusing the code from above part 3d\n",
        "# Create a Dataset of only spam testing examples\n",
        "test_spam = torchtext.data.Dataset(\n",
        "    [e for e in testset.examples if e.label == 1],\n",
        "    testset.fields)\n",
        "# Create a Dataset of only non-spam testing examples\n",
        "test_nospam = torchtext.data.Dataset(\n",
        "    [e for e in testset.examples if e.label == 0], #changed to 0 to obtain non-spam set\n",
        "    testset.fields)\n",
        "\n",
        "#we now need to iterate through these datasets, so using a similar iteration function as before\n",
        "test_spam_iter = torchtext.data.BucketIterator(test_spam,\n",
        "                                           batch_size=32,\n",
        "                                           sort_key=lambda x: len(x.text), # to minimize padding\n",
        "                                           sort_within_batch=True,        # sort within each batch\n",
        "                                           repeat=False)                  # repeat the iterator for many epochs\n",
        "\n",
        "test_no_spam_iter = torchtext.data.BucketIterator(test_nospam,\n",
        "                                           batch_size=32,\n",
        "                                           sort_key=lambda x: len(x.text), # to minimize padding\n",
        "                                           sort_within_batch=True,        # sort within each batch\n",
        "                                           repeat=False)                  # repeat the iterator for many epochs\n",
        "\n",
        "#since model 2 was the best model, we are going to use that model to get all the accuracies for false positives and false negatives\n",
        "print(\"Proportion of false positives in testing set :\", round((1 - get_accuracy(model_2, test_no_spam_iter))*100,2), \"%\")\n",
        "print(\"Proportion of false negatives in testing set :\", round((1 - get_accuracy(model_2, test_spam_iter))*100,2), \"%\")"
      ]
    },
    {
      "cell_type": "markdown",
      "metadata": {
        "id": "0jGHtQFpa91b"
      },
      "source": [
        "### Part (c) [3 pt]\n",
        "\n",
        "What is your model's prediction of the **probability** that\n",
        "the SMS message \"machine learning is sooo cool!\" is spam?\n",
        "\n",
        "Hint: To begin, use `text_field.vocab.stoi` to look up the index\n",
        "of each character in the vocabulary."
      ]
    },
    {
      "cell_type": "code",
      "execution_count": 132,
      "metadata": {
        "collapsed": true,
        "id": "h_2nSJq8a91b",
        "jupyter": {
          "outputs_hidden": true
        },
        "colab": {
          "base_uri": "https://localhost:8080/"
        },
        "outputId": "132d304c-43b8-4e88-818c-1f9084e897d6"
      },
      "outputs": [
        {
          "output_type": "stream",
          "name": "stdout",
          "text": [
            "Probability of the above message being spam : 6.29 %\n"
          ]
        }
      ],
      "source": [
        "msg = \"machine learning is sooo cool!\"\n",
        "msg_list = []\n",
        "for i in range(len(msg)):\n",
        "    msg_list.append(msg[i])\n",
        "for i in range(len(msg_list)):\n",
        "    #using the string to integer variable defined earlier to obtain the message in integer form for passing to model\n",
        "    msg_list[i]=text_field.vocab.stoi[msg[i]]\n",
        "#converting the list form to a tensor for passing to the model\n",
        "input = torch.LongTensor(msg_list).unsqueeze(dim=0)\n",
        "\n",
        "#using the same setup as in get_accuracy to identify spam probability using torch.softmax\n",
        "print(\"Probability of the above message being spam :\", round(float((torch.softmax(model_2(input), dim=1)[0][1]*100)),2), \"%\")"
      ]
    },
    {
      "cell_type": "markdown",
      "metadata": {
        "id": "QD1zgYJpa91f"
      },
      "source": [
        "### Part (d) [4 pt]\n",
        "\n",
        "Do you think detecting spam is an easy or difficult task?\n",
        "\n",
        "Since machine learning models are expensive to train and deploy, it is very\n",
        "important to compare our models against baseline models: a simple\n",
        "model that is easy to build and inexpensive to run that we can compare our\n",
        "recurrent neural network model against.\n",
        "\n",
        "Explain how you might build a simple baseline model. This baseline model\n",
        "can be a simple neural network (with very few weights), a hand-written algorithm,\n",
        "or any other strategy that is easy to build and test.\n",
        "\n",
        "**Do not actually build a baseline model. Instead, provide instructions on\n",
        "how to build it.**"
      ]
    },
    {
      "cell_type": "markdown",
      "source": [
        "Detecting spam messages is a relatively tough but not very difficult task just based on the amount of different ways a spam message could be detected. However, the possibility of potentially having a false negative or a false positive which could be dangerous does add an element of risk to it which should be reduced as much as possible.\n",
        "\n",
        "The simplest baseline model I can think off which would work decently well on detecting spam messages is just using common \"spam words\" and also a grammar/punctuation check. In most instances, spam messages have poorly framed sentences and punctuation mistakes which can easily be detected by checking for proper sentence structure using the baseline model we make.\n",
        "\n",
        "Also, spam messaged tend to often send out links or ask for details, so setting up our model in such a way that these two things are kept track off could be a good way to detect possible spam messages, however, it is still important to consider the possibility of links being from a reputables source and not just marking a message spam based on the fact that a link is present.\n",
        "\n",
        "The simplest model I can think off uses linear regression and fully connected layers to output a 0/1 encoding for any message that it reads based on the probability/weights of certain words appearing. Further, I would say it is important for the model to also detect how many above the aforementioned violations are present, and then mark it as spam if a majority are present, since there is a higher chance just based on general trends.\n",
        "\n",
        "This model would obviously have inconsistencies while detecting the possibility of spam messages so it should not be the sole basis of judgement when checking for spam messages."
      ],
      "metadata": {
        "id": "AxXR0l9627CR"
      }
    }
  ],
  "metadata": {
    "colab": {
      "provenance": []
    },
    "kernelspec": {
      "display_name": "Python 3 (ipykernel)",
      "language": "python",
      "name": "python3"
    },
    "language_info": {
      "codemirror_mode": {
        "name": "ipython",
        "version": 3
      },
      "file_extension": ".py",
      "mimetype": "text/x-python",
      "name": "python",
      "nbconvert_exporter": "python",
      "pygments_lexer": "ipython3",
      "version": "3.9.4"
    }
  },
  "nbformat": 4,
  "nbformat_minor": 0
}